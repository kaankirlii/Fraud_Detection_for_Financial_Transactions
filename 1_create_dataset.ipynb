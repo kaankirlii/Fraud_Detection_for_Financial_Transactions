{
  "nbformat": 4,
  "nbformat_minor": 0,
  "metadata": {
    "colab": {
      "provenance": []
    },
    "kernelspec": {
      "name": "python3",
      "display_name": "Python 3"
    },
    "language_info": {
      "name": "python"
    }
  },
  "cells": [
    {
      "cell_type": "code",
      "execution_count": null,
      "metadata": {
        "id": "lEtsGLUy7M03"
      },
      "outputs": [],
      "source": [
        "import pandas as pd\n",
        "import numpy as np\n",
        "\n",
        "# Set random seed for reproducibility\n",
        "np.random.seed(42)\n",
        "\n",
        "# Number of transactions to generate\n",
        "num_transactions = 10000"
      ]
    },
    {
      "cell_type": "code",
      "source": [
        "# Generate transaction types\n",
        "transaction_types = np.random.choice(['CASH_IN', 'CASH_OUT', 'DEBIT', 'PAYMENT'], size=num_transactions)"
      ],
      "metadata": {
        "id": "qruMU5iK7b8e"
      },
      "execution_count": null,
      "outputs": []
    },
    {
      "cell_type": "code",
      "source": [
        "# Generate transaction amounts\n",
        "transaction_amounts = np.random.normal(loc=5000, scale=2000, size=num_transactions)\n",
        "transaction_amounts = np.clip(transaction_amounts, 0, None)  # Ensure non-negative amounts"
      ],
      "metadata": {
        "id": "HmYyKO3u7jaF"
      },
      "execution_count": null,
      "outputs": []
    },
    {
      "cell_type": "code",
      "source": [
        "# Generate account balances before transaction\n",
        "starting_balances = np.random.normal(loc=50000, scale=20000, size=num_transactions)\n",
        "starting_balances = np.clip(starting_balances, 0, None)  # Ensure non-negative balances"
      ],
      "metadata": {
        "id": "r3J-_tEU7kb-"
      },
      "execution_count": null,
      "outputs": []
    },
    {
      "cell_type": "code",
      "source": [
        "# Calculate ending balances after transaction\n",
        "ending_balances = starting_balances.copy()\n",
        "for i, transaction_type in enumerate(transaction_types):\n",
        "    if transaction_type in ['CASH_OUT', 'DEBIT']:\n",
        "        ending_balances[i] -= transaction_amounts[i]\n",
        "    elif transaction_type in ['CASH_IN', 'PAYMENT']:\n",
        "        ending_balances[i] += transaction_amounts[i]"
      ],
      "metadata": {
        "id": "VJ_Of_9H7rHx"
      },
      "execution_count": null,
      "outputs": []
    },
    {
      "cell_type": "code",
      "source": [
        "# Generate destination account information for cash-out transactions\n",
        "destination_accounts = np.where(transaction_types == 'CASH_OUT', np.random.randint(1000000, 9999999, size=num_transactions), None)\n",
        "\n",
        "# Generate fraudulent transaction indicator\n",
        "is_fraudulent = np.random.choice([0, 1], size=num_transactions, p=[0.95, 0.05])  # 5% fraud rate"
      ],
      "metadata": {
        "id": "WDxNr4Cq7vLn"
      },
      "execution_count": null,
      "outputs": []
    },
    {
      "cell_type": "code",
      "source": [
        "# Create DataFrame\n",
        "data = {\n",
        "    'transaction_type': transaction_types,\n",
        "    'amount': transaction_amounts,\n",
        "    'starting_balance': starting_balances,\n",
        "    'ending_balance': ending_balances,\n",
        "    'destination_account': destination_accounts,\n",
        "    'is_fraudulent': is_fraudulent\n",
        "}\n",
        "\n",
        "df = pd.DataFrame(data)"
      ],
      "metadata": {
        "id": "Ps9jy2EQ7zSc"
      },
      "execution_count": null,
      "outputs": []
    },
    {
      "cell_type": "code",
      "source": [
        "# Display first few rows of the dataset\n",
        "print(df.head())"
      ],
      "metadata": {
        "colab": {
          "base_uri": "https://localhost:8080/"
        },
        "id": "U1LZQQ9A74De",
        "outputId": "2bb6a7cd-ecb4-4b48-da91-b7abbe7bdd34"
      },
      "execution_count": null,
      "outputs": [
        {
          "output_type": "stream",
          "name": "stdout",
          "text": [
            "  transaction_type       amount  starting_balance  ending_balance  \\\n",
            "0            DEBIT  3806.051427          0.000000    -3806.051427   \n",
            "1          PAYMENT   219.391265      39537.913862    39757.305127   \n",
            "2          CASH_IN  4175.558510      32668.588911    36844.147421   \n",
            "3            DEBIT  6826.947464      56980.245373    50153.297909   \n",
            "4            DEBIT  6075.259806     115714.474274   109639.214468   \n",
            "\n",
            "  destination_account  is_fraudulent  \n",
            "0                None              0  \n",
            "1                None              0  \n",
            "2                None              0  \n",
            "3                None              0  \n",
            "4                None              0  \n"
          ]
        }
      ]
    },
    {
      "cell_type": "code",
      "source": [
        "# Display last few rows of the dataset\n",
        "print(df.tail())"
      ],
      "metadata": {
        "colab": {
          "base_uri": "https://localhost:8080/"
        },
        "id": "a6h22V9D8kC9",
        "outputId": "8abed05d-a197-40be-b2c3-c8aabbc871d4"
      },
      "execution_count": null,
      "outputs": [
        {
          "output_type": "stream",
          "name": "stdout",
          "text": [
            "     transaction_type       amount  starting_balance  ending_balance  \\\n",
            "9995          PAYMENT  3430.866015      27559.336588    30990.202602   \n",
            "9996            DEBIT  7416.646572      42691.645578    35274.999006   \n",
            "9997         CASH_OUT  5489.569239      17939.210311    12449.641072   \n",
            "9998         CASH_OUT  6224.313614      22354.281917    16129.968303   \n",
            "9999          CASH_IN  3202.252378      70842.797853    74045.050231   \n",
            "\n",
            "     destination_account  is_fraudulent  \n",
            "9995                None              0  \n",
            "9996                None              0  \n",
            "9997             4225012              0  \n",
            "9998             5142900              0  \n",
            "9999                None              1  \n"
          ]
        }
      ]
    },
    {
      "cell_type": "code",
      "source": [
        "# Save the dataset to a CSV file\n",
        "df.to_csv('financial_transactions.csv', index=False)"
      ],
      "metadata": {
        "id": "GS9ecNPd76gU"
      },
      "execution_count": null,
      "outputs": []
    }
  ]
}